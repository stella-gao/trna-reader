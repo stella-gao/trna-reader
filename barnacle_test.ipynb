{
 "cells": [
  {
   "cell_type": "code",
   "execution_count": 5,
   "metadata": {
    "collapsed": false,
    "deletable": true,
    "editable": true
   },
   "outputs": [
    {
     "name": "stdout",
     "output_type": "stream",
     "text": [
      "[(5.218212883459856, 2.954552746488611, 1.0534816686773547, 1.3581223074814701, 3.5830627404063002, 5.085809008883296, 3.379157448655465), (4.597704974344519, 3.0978175220841457, 0.8948022993217136, 1.4135148277364002, 3.786558201984512, 5.070833060840754, 3.263056579818631), (4.9372036322508945, 3.1357403796414407, 0.8281377880047096, 1.4016472781296772, 3.709173177762423, 4.99374279341806, 3.7365862203211186), (5.078480354003512, 3.234688881180455, 0.9502329131733008, 1.3640552104081187, 3.9195193864837483, 5.016234073084269, 3.5657572165000913), (5.092815380654709, 3.1511798508538726, 1.0544133486786484, 1.401489850041195, 4.023060407863283, 5.295235348366261, 3.4221815451078803)]\n"
     ]
    }
   ],
   "source": [
    "from Barnacle import Barnacle\n",
    "\n",
    "# from http://www.rcsb.org/pdb/explore/explore.do?structureId=4tna\n",
    "model = Barnacle(\"GCGGAUUUAGCUCAGUUGGGAGAGCGCCAGACUGAAGAUCUGGAGGUCCUGUGUUCGAUCCACAGAAUUCGCACCA\")\n",
    "\n",
    "model.sample()\n",
    "\n",
    "print(model.get_angles()[:5])\n",
    "\n",
    "import os\n",
    "os.makedirs('output', exist_ok=True)\n",
    "model.save_structure(\"output/output.pdb\")"
   ]
  }
 ],
 "metadata": {
  "kernelspec": {
   "display_name": "Python 3",
   "language": "python",
   "name": "python3"
  },
  "language_info": {
   "codemirror_mode": {
    "name": "ipython",
    "version": 3
   },
   "file_extension": ".py",
   "mimetype": "text/x-python",
   "name": "python",
   "nbconvert_exporter": "python",
   "pygments_lexer": "ipython3",
   "version": "3.5.3"
  }
 },
 "nbformat": 4,
 "nbformat_minor": 2
}

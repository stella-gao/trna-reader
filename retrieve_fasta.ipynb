{
 "cells": [
  {
   "cell_type": "code",
   "execution_count": 4,
   "metadata": {
    "collapsed": true
   },
   "outputs": [],
   "source": [
    "import urllib.request\n",
    "\n",
    "def getSequences():\n",
    "    x = urllib.request.urlopen('http://gtrnadb.ucsc.edu/genomes/eukaryota/Scere3/sacCer3-tRNAs.fa')\n",
    "    content = x.read().decode(\"utf-8\").upper()\n",
    "    # now we have a list of the lines in the file\n",
    "    lines = content.split('\\n')\n",
    "\n",
    "    sequences = []\n",
    "    seq_index = -1\n",
    "    for i in range(len(lines)):\n",
    "        if lines[i].startswith('>'):\n",
    "            seq_index += 1\n",
    "            sequences.append('')\n",
    "        else:\n",
    "            sequences[seq_index] += lines[i]\n",
    "\n",
    "    return sequences"
   ]
  },
  {
   "cell_type": "markdown",
   "metadata": {},
   "source": [
    "We grab the sequences in a FASTA format from the GtRNAdb."
   ]
  }
 ],
 "metadata": {
  "kernelspec": {
   "display_name": "Python 3",
   "language": "python",
   "name": "python3"
  },
  "language_info": {
   "codemirror_mode": {
    "name": "ipython",
    "version": 3
   },
   "file_extension": ".py",
   "mimetype": "text/x-python",
   "name": "python",
   "nbconvert_exporter": "python",
   "pygments_lexer": "ipython3",
   "version": "3.5.3"
  }
 },
 "nbformat": 4,
 "nbformat_minor": 2
}
